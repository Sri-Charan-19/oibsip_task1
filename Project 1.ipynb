{
 "cells": [
  {
   "cell_type": "markdown",
   "id": "485fd3db",
   "metadata": {},
   "source": [
    "# Iris Classification"
   ]
  },
  {
   "cell_type": "code",
   "execution_count": 1,
   "id": "c45a7f9c",
   "metadata": {},
   "outputs": [],
   "source": [
    "import numpy as np\n",
    "import pandas as pd\n",
    "import seaborn as sns\n",
    "from matplotlib import pyplot as plt\n",
    "%matplotlib inline\n",
    "import warnings\n",
    "warnings.filterwarnings(\"ignore\")"
   ]
  },
  {
   "cell_type": "code",
   "execution_count": 2,
   "id": "1822d2ca",
   "metadata": {},
   "outputs": [],
   "source": [
    "df = pd.read_csv(\"Iris.csv\")"
   ]
  },
  {
   "cell_type": "code",
   "execution_count": 3,
   "id": "ef8cca33",
   "metadata": {},
   "outputs": [
    {
     "data": {
      "text/html": [
       "<div>\n",
       "<style scoped>\n",
       "    .dataframe tbody tr th:only-of-type {\n",
       "        vertical-align: middle;\n",
       "    }\n",
       "\n",
       "    .dataframe tbody tr th {\n",
       "        vertical-align: top;\n",
       "    }\n",
       "\n",
       "    .dataframe thead th {\n",
       "        text-align: right;\n",
       "    }\n",
       "</style>\n",
       "<table border=\"1\" class=\"dataframe\">\n",
       "  <thead>\n",
       "    <tr style=\"text-align: right;\">\n",
       "      <th></th>\n",
       "      <th>Id</th>\n",
       "      <th>SepalLengthCm</th>\n",
       "      <th>SepalWidthCm</th>\n",
       "      <th>PetalLengthCm</th>\n",
       "      <th>PetalWidthCm</th>\n",
       "      <th>Species</th>\n",
       "    </tr>\n",
       "  </thead>\n",
       "  <tbody>\n",
       "    <tr>\n",
       "      <th>0</th>\n",
       "      <td>1</td>\n",
       "      <td>5.1</td>\n",
       "      <td>3.5</td>\n",
       "      <td>1.4</td>\n",
       "      <td>0.2</td>\n",
       "      <td>Iris-setosa</td>\n",
       "    </tr>\n",
       "    <tr>\n",
       "      <th>1</th>\n",
       "      <td>2</td>\n",
       "      <td>4.9</td>\n",
       "      <td>3.0</td>\n",
       "      <td>1.4</td>\n",
       "      <td>0.2</td>\n",
       "      <td>Iris-setosa</td>\n",
       "    </tr>\n",
       "    <tr>\n",
       "      <th>2</th>\n",
       "      <td>3</td>\n",
       "      <td>4.7</td>\n",
       "      <td>3.2</td>\n",
       "      <td>1.3</td>\n",
       "      <td>0.2</td>\n",
       "      <td>Iris-setosa</td>\n",
       "    </tr>\n",
       "    <tr>\n",
       "      <th>3</th>\n",
       "      <td>4</td>\n",
       "      <td>4.6</td>\n",
       "      <td>3.1</td>\n",
       "      <td>1.5</td>\n",
       "      <td>0.2</td>\n",
       "      <td>Iris-setosa</td>\n",
       "    </tr>\n",
       "    <tr>\n",
       "      <th>4</th>\n",
       "      <td>5</td>\n",
       "      <td>5.0</td>\n",
       "      <td>3.6</td>\n",
       "      <td>1.4</td>\n",
       "      <td>0.2</td>\n",
       "      <td>Iris-setosa</td>\n",
       "    </tr>\n",
       "    <tr>\n",
       "      <th>...</th>\n",
       "      <td>...</td>\n",
       "      <td>...</td>\n",
       "      <td>...</td>\n",
       "      <td>...</td>\n",
       "      <td>...</td>\n",
       "      <td>...</td>\n",
       "    </tr>\n",
       "    <tr>\n",
       "      <th>145</th>\n",
       "      <td>146</td>\n",
       "      <td>6.7</td>\n",
       "      <td>3.0</td>\n",
       "      <td>5.2</td>\n",
       "      <td>2.3</td>\n",
       "      <td>Iris-virginica</td>\n",
       "    </tr>\n",
       "    <tr>\n",
       "      <th>146</th>\n",
       "      <td>147</td>\n",
       "      <td>6.3</td>\n",
       "      <td>2.5</td>\n",
       "      <td>5.0</td>\n",
       "      <td>1.9</td>\n",
       "      <td>Iris-virginica</td>\n",
       "    </tr>\n",
       "    <tr>\n",
       "      <th>147</th>\n",
       "      <td>148</td>\n",
       "      <td>6.5</td>\n",
       "      <td>3.0</td>\n",
       "      <td>5.2</td>\n",
       "      <td>2.0</td>\n",
       "      <td>Iris-virginica</td>\n",
       "    </tr>\n",
       "    <tr>\n",
       "      <th>148</th>\n",
       "      <td>149</td>\n",
       "      <td>6.2</td>\n",
       "      <td>3.4</td>\n",
       "      <td>5.4</td>\n",
       "      <td>2.3</td>\n",
       "      <td>Iris-virginica</td>\n",
       "    </tr>\n",
       "    <tr>\n",
       "      <th>149</th>\n",
       "      <td>150</td>\n",
       "      <td>5.9</td>\n",
       "      <td>3.0</td>\n",
       "      <td>5.1</td>\n",
       "      <td>1.8</td>\n",
       "      <td>Iris-virginica</td>\n",
       "    </tr>\n",
       "  </tbody>\n",
       "</table>\n",
       "<p>150 rows × 6 columns</p>\n",
       "</div>"
      ],
      "text/plain": [
       "      Id  SepalLengthCm  SepalWidthCm  PetalLengthCm  PetalWidthCm  \\\n",
       "0      1            5.1           3.5            1.4           0.2   \n",
       "1      2            4.9           3.0            1.4           0.2   \n",
       "2      3            4.7           3.2            1.3           0.2   \n",
       "3      4            4.6           3.1            1.5           0.2   \n",
       "4      5            5.0           3.6            1.4           0.2   \n",
       "..   ...            ...           ...            ...           ...   \n",
       "145  146            6.7           3.0            5.2           2.3   \n",
       "146  147            6.3           2.5            5.0           1.9   \n",
       "147  148            6.5           3.0            5.2           2.0   \n",
       "148  149            6.2           3.4            5.4           2.3   \n",
       "149  150            5.9           3.0            5.1           1.8   \n",
       "\n",
       "            Species  \n",
       "0       Iris-setosa  \n",
       "1       Iris-setosa  \n",
       "2       Iris-setosa  \n",
       "3       Iris-setosa  \n",
       "4       Iris-setosa  \n",
       "..              ...  \n",
       "145  Iris-virginica  \n",
       "146  Iris-virginica  \n",
       "147  Iris-virginica  \n",
       "148  Iris-virginica  \n",
       "149  Iris-virginica  \n",
       "\n",
       "[150 rows x 6 columns]"
      ]
     },
     "execution_count": 3,
     "metadata": {},
     "output_type": "execute_result"
    }
   ],
   "source": [
    "df"
   ]
  },
  {
   "cell_type": "code",
   "execution_count": 4,
   "id": "72d3e734",
   "metadata": {},
   "outputs": [
    {
     "data": {
      "text/html": [
       "<div>\n",
       "<style scoped>\n",
       "    .dataframe tbody tr th:only-of-type {\n",
       "        vertical-align: middle;\n",
       "    }\n",
       "\n",
       "    .dataframe tbody tr th {\n",
       "        vertical-align: top;\n",
       "    }\n",
       "\n",
       "    .dataframe thead th {\n",
       "        text-align: right;\n",
       "    }\n",
       "</style>\n",
       "<table border=\"1\" class=\"dataframe\">\n",
       "  <thead>\n",
       "    <tr style=\"text-align: right;\">\n",
       "      <th></th>\n",
       "      <th>Id</th>\n",
       "      <th>SepalLengthCm</th>\n",
       "      <th>SepalWidthCm</th>\n",
       "      <th>PetalLengthCm</th>\n",
       "      <th>PetalWidthCm</th>\n",
       "    </tr>\n",
       "  </thead>\n",
       "  <tbody>\n",
       "    <tr>\n",
       "      <th>count</th>\n",
       "      <td>150.000000</td>\n",
       "      <td>150.000000</td>\n",
       "      <td>150.000000</td>\n",
       "      <td>150.000000</td>\n",
       "      <td>150.000000</td>\n",
       "    </tr>\n",
       "    <tr>\n",
       "      <th>mean</th>\n",
       "      <td>75.500000</td>\n",
       "      <td>5.843333</td>\n",
       "      <td>3.054000</td>\n",
       "      <td>3.758667</td>\n",
       "      <td>1.198667</td>\n",
       "    </tr>\n",
       "    <tr>\n",
       "      <th>std</th>\n",
       "      <td>43.445368</td>\n",
       "      <td>0.828066</td>\n",
       "      <td>0.433594</td>\n",
       "      <td>1.764420</td>\n",
       "      <td>0.763161</td>\n",
       "    </tr>\n",
       "    <tr>\n",
       "      <th>min</th>\n",
       "      <td>1.000000</td>\n",
       "      <td>4.300000</td>\n",
       "      <td>2.000000</td>\n",
       "      <td>1.000000</td>\n",
       "      <td>0.100000</td>\n",
       "    </tr>\n",
       "    <tr>\n",
       "      <th>25%</th>\n",
       "      <td>38.250000</td>\n",
       "      <td>5.100000</td>\n",
       "      <td>2.800000</td>\n",
       "      <td>1.600000</td>\n",
       "      <td>0.300000</td>\n",
       "    </tr>\n",
       "    <tr>\n",
       "      <th>50%</th>\n",
       "      <td>75.500000</td>\n",
       "      <td>5.800000</td>\n",
       "      <td>3.000000</td>\n",
       "      <td>4.350000</td>\n",
       "      <td>1.300000</td>\n",
       "    </tr>\n",
       "    <tr>\n",
       "      <th>75%</th>\n",
       "      <td>112.750000</td>\n",
       "      <td>6.400000</td>\n",
       "      <td>3.300000</td>\n",
       "      <td>5.100000</td>\n",
       "      <td>1.800000</td>\n",
       "    </tr>\n",
       "    <tr>\n",
       "      <th>max</th>\n",
       "      <td>150.000000</td>\n",
       "      <td>7.900000</td>\n",
       "      <td>4.400000</td>\n",
       "      <td>6.900000</td>\n",
       "      <td>2.500000</td>\n",
       "    </tr>\n",
       "  </tbody>\n",
       "</table>\n",
       "</div>"
      ],
      "text/plain": [
       "               Id  SepalLengthCm  SepalWidthCm  PetalLengthCm  PetalWidthCm\n",
       "count  150.000000     150.000000    150.000000     150.000000    150.000000\n",
       "mean    75.500000       5.843333      3.054000       3.758667      1.198667\n",
       "std     43.445368       0.828066      0.433594       1.764420      0.763161\n",
       "min      1.000000       4.300000      2.000000       1.000000      0.100000\n",
       "25%     38.250000       5.100000      2.800000       1.600000      0.300000\n",
       "50%     75.500000       5.800000      3.000000       4.350000      1.300000\n",
       "75%    112.750000       6.400000      3.300000       5.100000      1.800000\n",
       "max    150.000000       7.900000      4.400000       6.900000      2.500000"
      ]
     },
     "execution_count": 4,
     "metadata": {},
     "output_type": "execute_result"
    }
   ],
   "source": [
    "df.describe()"
   ]
  },
  {
   "cell_type": "code",
   "execution_count": 5,
   "id": "8f999684",
   "metadata": {},
   "outputs": [
    {
     "name": "stdout",
     "output_type": "stream",
     "text": [
      "<class 'pandas.core.frame.DataFrame'>\n",
      "RangeIndex: 150 entries, 0 to 149\n",
      "Data columns (total 6 columns):\n",
      " #   Column         Non-Null Count  Dtype  \n",
      "---  ------         --------------  -----  \n",
      " 0   Id             150 non-null    int64  \n",
      " 1   SepalLengthCm  150 non-null    float64\n",
      " 2   SepalWidthCm   150 non-null    float64\n",
      " 3   PetalLengthCm  150 non-null    float64\n",
      " 4   PetalWidthCm   150 non-null    float64\n",
      " 5   Species        150 non-null    object \n",
      "dtypes: float64(4), int64(1), object(1)\n",
      "memory usage: 7.2+ KB\n"
     ]
    }
   ],
   "source": [
    "df.info()"
   ]
  },
  {
   "cell_type": "code",
   "execution_count": 6,
   "id": "6743efa1",
   "metadata": {},
   "outputs": [
    {
     "data": {
      "text/plain": [
       "array(['Iris-setosa', 'Iris-versicolor', 'Iris-virginica'], dtype=object)"
      ]
     },
     "execution_count": 6,
     "metadata": {},
     "output_type": "execute_result"
    }
   ],
   "source": [
    "df[\"Species\"].unique()"
   ]
  },
  {
   "cell_type": "code",
   "execution_count": 7,
   "id": "00005b1c",
   "metadata": {},
   "outputs": [
    {
     "data": {
      "text/plain": [
       "Species\n",
       "Iris-setosa        50\n",
       "Iris-versicolor    50\n",
       "Iris-virginica     50\n",
       "dtype: int64"
      ]
     },
     "execution_count": 7,
     "metadata": {},
     "output_type": "execute_result"
    }
   ],
   "source": [
    "df.groupby(\"Species\").size()"
   ]
  },
  {
   "cell_type": "code",
   "execution_count": 8,
   "id": "3e4c0b3a",
   "metadata": {},
   "outputs": [
    {
     "data": {
      "text/plain": [
       "Id               0\n",
       "SepalLengthCm    0\n",
       "SepalWidthCm     0\n",
       "PetalLengthCm    0\n",
       "PetalWidthCm     0\n",
       "Species          0\n",
       "dtype: int64"
      ]
     },
     "execution_count": 8,
     "metadata": {},
     "output_type": "execute_result"
    }
   ],
   "source": [
    "df.isnull().sum()"
   ]
  },
  {
   "cell_type": "code",
   "execution_count": 9,
   "id": "951b8aec",
   "metadata": {},
   "outputs": [],
   "source": [
    "df.drop('Id', inplace=True, axis=1)"
   ]
  },
  {
   "cell_type": "code",
   "execution_count": 10,
   "id": "5e47cf0f",
   "metadata": {},
   "outputs": [
    {
     "data": {
      "text/html": [
       "<div>\n",
       "<style scoped>\n",
       "    .dataframe tbody tr th:only-of-type {\n",
       "        vertical-align: middle;\n",
       "    }\n",
       "\n",
       "    .dataframe tbody tr th {\n",
       "        vertical-align: top;\n",
       "    }\n",
       "\n",
       "    .dataframe thead th {\n",
       "        text-align: right;\n",
       "    }\n",
       "</style>\n",
       "<table border=\"1\" class=\"dataframe\">\n",
       "  <thead>\n",
       "    <tr style=\"text-align: right;\">\n",
       "      <th></th>\n",
       "      <th>SepalLengthCm</th>\n",
       "      <th>SepalWidthCm</th>\n",
       "      <th>PetalLengthCm</th>\n",
       "      <th>PetalWidthCm</th>\n",
       "      <th>Species</th>\n",
       "    </tr>\n",
       "  </thead>\n",
       "  <tbody>\n",
       "    <tr>\n",
       "      <th>0</th>\n",
       "      <td>5.1</td>\n",
       "      <td>3.5</td>\n",
       "      <td>1.4</td>\n",
       "      <td>0.2</td>\n",
       "      <td>Iris-setosa</td>\n",
       "    </tr>\n",
       "    <tr>\n",
       "      <th>1</th>\n",
       "      <td>4.9</td>\n",
       "      <td>3.0</td>\n",
       "      <td>1.4</td>\n",
       "      <td>0.2</td>\n",
       "      <td>Iris-setosa</td>\n",
       "    </tr>\n",
       "    <tr>\n",
       "      <th>2</th>\n",
       "      <td>4.7</td>\n",
       "      <td>3.2</td>\n",
       "      <td>1.3</td>\n",
       "      <td>0.2</td>\n",
       "      <td>Iris-setosa</td>\n",
       "    </tr>\n",
       "    <tr>\n",
       "      <th>3</th>\n",
       "      <td>4.6</td>\n",
       "      <td>3.1</td>\n",
       "      <td>1.5</td>\n",
       "      <td>0.2</td>\n",
       "      <td>Iris-setosa</td>\n",
       "    </tr>\n",
       "    <tr>\n",
       "      <th>4</th>\n",
       "      <td>5.0</td>\n",
       "      <td>3.6</td>\n",
       "      <td>1.4</td>\n",
       "      <td>0.2</td>\n",
       "      <td>Iris-setosa</td>\n",
       "    </tr>\n",
       "    <tr>\n",
       "      <th>...</th>\n",
       "      <td>...</td>\n",
       "      <td>...</td>\n",
       "      <td>...</td>\n",
       "      <td>...</td>\n",
       "      <td>...</td>\n",
       "    </tr>\n",
       "    <tr>\n",
       "      <th>145</th>\n",
       "      <td>6.7</td>\n",
       "      <td>3.0</td>\n",
       "      <td>5.2</td>\n",
       "      <td>2.3</td>\n",
       "      <td>Iris-virginica</td>\n",
       "    </tr>\n",
       "    <tr>\n",
       "      <th>146</th>\n",
       "      <td>6.3</td>\n",
       "      <td>2.5</td>\n",
       "      <td>5.0</td>\n",
       "      <td>1.9</td>\n",
       "      <td>Iris-virginica</td>\n",
       "    </tr>\n",
       "    <tr>\n",
       "      <th>147</th>\n",
       "      <td>6.5</td>\n",
       "      <td>3.0</td>\n",
       "      <td>5.2</td>\n",
       "      <td>2.0</td>\n",
       "      <td>Iris-virginica</td>\n",
       "    </tr>\n",
       "    <tr>\n",
       "      <th>148</th>\n",
       "      <td>6.2</td>\n",
       "      <td>3.4</td>\n",
       "      <td>5.4</td>\n",
       "      <td>2.3</td>\n",
       "      <td>Iris-virginica</td>\n",
       "    </tr>\n",
       "    <tr>\n",
       "      <th>149</th>\n",
       "      <td>5.9</td>\n",
       "      <td>3.0</td>\n",
       "      <td>5.1</td>\n",
       "      <td>1.8</td>\n",
       "      <td>Iris-virginica</td>\n",
       "    </tr>\n",
       "  </tbody>\n",
       "</table>\n",
       "<p>150 rows × 5 columns</p>\n",
       "</div>"
      ],
      "text/plain": [
       "     SepalLengthCm  SepalWidthCm  PetalLengthCm  PetalWidthCm         Species\n",
       "0              5.1           3.5            1.4           0.2     Iris-setosa\n",
       "1              4.9           3.0            1.4           0.2     Iris-setosa\n",
       "2              4.7           3.2            1.3           0.2     Iris-setosa\n",
       "3              4.6           3.1            1.5           0.2     Iris-setosa\n",
       "4              5.0           3.6            1.4           0.2     Iris-setosa\n",
       "..             ...           ...            ...           ...             ...\n",
       "145            6.7           3.0            5.2           2.3  Iris-virginica\n",
       "146            6.3           2.5            5.0           1.9  Iris-virginica\n",
       "147            6.5           3.0            5.2           2.0  Iris-virginica\n",
       "148            6.2           3.4            5.4           2.3  Iris-virginica\n",
       "149            5.9           3.0            5.1           1.8  Iris-virginica\n",
       "\n",
       "[150 rows x 5 columns]"
      ]
     },
     "execution_count": 10,
     "metadata": {},
     "output_type": "execute_result"
    }
   ],
   "source": [
    "df"
   ]
  },
  {
   "cell_type": "code",
   "execution_count": 11,
   "id": "43102305",
   "metadata": {},
   "outputs": [
    {
     "data": {
      "text/html": [
       "<div>\n",
       "<style scoped>\n",
       "    .dataframe tbody tr th:only-of-type {\n",
       "        vertical-align: middle;\n",
       "    }\n",
       "\n",
       "    .dataframe tbody tr th {\n",
       "        vertical-align: top;\n",
       "    }\n",
       "\n",
       "    .dataframe thead th {\n",
       "        text-align: right;\n",
       "    }\n",
       "</style>\n",
       "<table border=\"1\" class=\"dataframe\">\n",
       "  <thead>\n",
       "    <tr style=\"text-align: right;\">\n",
       "      <th></th>\n",
       "      <th>SepalLengthCm</th>\n",
       "      <th>SepalWidthCm</th>\n",
       "      <th>PetalLengthCm</th>\n",
       "      <th>PetalWidthCm</th>\n",
       "      <th>Species</th>\n",
       "    </tr>\n",
       "  </thead>\n",
       "  <tbody>\n",
       "    <tr>\n",
       "      <th>0</th>\n",
       "      <td>5.1</td>\n",
       "      <td>3.5</td>\n",
       "      <td>1.4</td>\n",
       "      <td>0.2</td>\n",
       "      <td>Iris-setosa</td>\n",
       "    </tr>\n",
       "    <tr>\n",
       "      <th>1</th>\n",
       "      <td>4.9</td>\n",
       "      <td>3.0</td>\n",
       "      <td>1.4</td>\n",
       "      <td>0.2</td>\n",
       "      <td>Iris-setosa</td>\n",
       "    </tr>\n",
       "    <tr>\n",
       "      <th>2</th>\n",
       "      <td>4.7</td>\n",
       "      <td>3.2</td>\n",
       "      <td>1.3</td>\n",
       "      <td>0.2</td>\n",
       "      <td>Iris-setosa</td>\n",
       "    </tr>\n",
       "    <tr>\n",
       "      <th>3</th>\n",
       "      <td>4.6</td>\n",
       "      <td>3.1</td>\n",
       "      <td>1.5</td>\n",
       "      <td>0.2</td>\n",
       "      <td>Iris-setosa</td>\n",
       "    </tr>\n",
       "    <tr>\n",
       "      <th>4</th>\n",
       "      <td>5.0</td>\n",
       "      <td>3.6</td>\n",
       "      <td>1.4</td>\n",
       "      <td>0.2</td>\n",
       "      <td>Iris-setosa</td>\n",
       "    </tr>\n",
       "  </tbody>\n",
       "</table>\n",
       "</div>"
      ],
      "text/plain": [
       "   SepalLengthCm  SepalWidthCm  PetalLengthCm  PetalWidthCm      Species\n",
       "0            5.1           3.5            1.4           0.2  Iris-setosa\n",
       "1            4.9           3.0            1.4           0.2  Iris-setosa\n",
       "2            4.7           3.2            1.3           0.2  Iris-setosa\n",
       "3            4.6           3.1            1.5           0.2  Iris-setosa\n",
       "4            5.0           3.6            1.4           0.2  Iris-setosa"
      ]
     },
     "execution_count": 11,
     "metadata": {},
     "output_type": "execute_result"
    }
   ],
   "source": [
    "df.head()"
   ]
  },
  {
   "cell_type": "code",
   "execution_count": 12,
   "id": "25dee71b",
   "metadata": {},
   "outputs": [
    {
     "data": {
      "text/plain": [
       "(150, 5)"
      ]
     },
     "execution_count": 12,
     "metadata": {},
     "output_type": "execute_result"
    }
   ],
   "source": [
    "df.shape"
   ]
  },
  {
   "cell_type": "code",
   "execution_count": 13,
   "id": "47d3eb85",
   "metadata": {},
   "outputs": [],
   "source": [
    "df.columns=['sepal_length','sepal_width','petal_length','petal_width','species']"
   ]
  },
  {
   "cell_type": "code",
   "execution_count": 14,
   "id": "c6d27b52",
   "metadata": {},
   "outputs": [
    {
     "data": {
      "text/html": [
       "<div>\n",
       "<style scoped>\n",
       "    .dataframe tbody tr th:only-of-type {\n",
       "        vertical-align: middle;\n",
       "    }\n",
       "\n",
       "    .dataframe tbody tr th {\n",
       "        vertical-align: top;\n",
       "    }\n",
       "\n",
       "    .dataframe thead th {\n",
       "        text-align: right;\n",
       "    }\n",
       "</style>\n",
       "<table border=\"1\" class=\"dataframe\">\n",
       "  <thead>\n",
       "    <tr style=\"text-align: right;\">\n",
       "      <th></th>\n",
       "      <th>sepal_length</th>\n",
       "      <th>sepal_width</th>\n",
       "      <th>petal_length</th>\n",
       "      <th>petal_width</th>\n",
       "      <th>species</th>\n",
       "    </tr>\n",
       "  </thead>\n",
       "  <tbody>\n",
       "    <tr>\n",
       "      <th>0</th>\n",
       "      <td>5.1</td>\n",
       "      <td>3.5</td>\n",
       "      <td>1.4</td>\n",
       "      <td>0.2</td>\n",
       "      <td>Iris-setosa</td>\n",
       "    </tr>\n",
       "    <tr>\n",
       "      <th>1</th>\n",
       "      <td>4.9</td>\n",
       "      <td>3.0</td>\n",
       "      <td>1.4</td>\n",
       "      <td>0.2</td>\n",
       "      <td>Iris-setosa</td>\n",
       "    </tr>\n",
       "    <tr>\n",
       "      <th>2</th>\n",
       "      <td>4.7</td>\n",
       "      <td>3.2</td>\n",
       "      <td>1.3</td>\n",
       "      <td>0.2</td>\n",
       "      <td>Iris-setosa</td>\n",
       "    </tr>\n",
       "    <tr>\n",
       "      <th>3</th>\n",
       "      <td>4.6</td>\n",
       "      <td>3.1</td>\n",
       "      <td>1.5</td>\n",
       "      <td>0.2</td>\n",
       "      <td>Iris-setosa</td>\n",
       "    </tr>\n",
       "    <tr>\n",
       "      <th>4</th>\n",
       "      <td>5.0</td>\n",
       "      <td>3.6</td>\n",
       "      <td>1.4</td>\n",
       "      <td>0.2</td>\n",
       "      <td>Iris-setosa</td>\n",
       "    </tr>\n",
       "  </tbody>\n",
       "</table>\n",
       "</div>"
      ],
      "text/plain": [
       "   sepal_length  sepal_width  petal_length  petal_width      species\n",
       "0           5.1          3.5           1.4          0.2  Iris-setosa\n",
       "1           4.9          3.0           1.4          0.2  Iris-setosa\n",
       "2           4.7          3.2           1.3          0.2  Iris-setosa\n",
       "3           4.6          3.1           1.5          0.2  Iris-setosa\n",
       "4           5.0          3.6           1.4          0.2  Iris-setosa"
      ]
     },
     "execution_count": 14,
     "metadata": {},
     "output_type": "execute_result"
    }
   ],
   "source": [
    "df.head()"
   ]
  },
  {
   "cell_type": "code",
   "execution_count": 15,
   "id": "39be011e",
   "metadata": {},
   "outputs": [],
   "source": [
    "mean_sepal_length=df.groupby('species')['sepal_length'].mean()"
   ]
  },
  {
   "cell_type": "code",
   "execution_count": 16,
   "id": "7959878c",
   "metadata": {},
   "outputs": [
    {
     "name": "stdout",
     "output_type": "stream",
     "text": [
      "Mean of the sepal length of each species : \n",
      "species\n",
      "Iris-setosa        5.006\n",
      "Iris-versicolor    5.936\n",
      "Iris-virginica     6.588\n",
      "Name: sepal_length, dtype: float64\n"
     ]
    }
   ],
   "source": [
    "print(\"Mean of the sepal length of each species : \")\n",
    "print(mean_sepal_length)"
   ]
  },
  {
   "cell_type": "code",
   "execution_count": 17,
   "id": "988c7631",
   "metadata": {},
   "outputs": [],
   "source": [
    "median_petal_width=df.groupby('species')['petal_width'].median()"
   ]
  },
  {
   "cell_type": "code",
   "execution_count": 18,
   "id": "de38f6e7",
   "metadata": {},
   "outputs": [
    {
     "name": "stdout",
     "output_type": "stream",
     "text": [
      "Median of the petal width of each species : \n",
      "species\n",
      "Iris-setosa        0.2\n",
      "Iris-versicolor    1.3\n",
      "Iris-virginica     2.0\n",
      "Name: petal_width, dtype: float64\n"
     ]
    }
   ],
   "source": [
    "print(\"Median of the petal width of each species : \")\n",
    "print(median_petal_width)"
   ]
  },
  {
   "cell_type": "markdown",
   "id": "bd468287",
   "metadata": {},
   "source": [
    "# PreProcessing of Data"
   ]
  },
  {
   "cell_type": "code",
   "execution_count": 19,
   "id": "2696db1f",
   "metadata": {},
   "outputs": [],
   "source": [
    "X = df.iloc[:, 1:4].values\n",
    "y = df.iloc[:, 4].values"
   ]
  },
  {
   "cell_type": "code",
   "execution_count": 20,
   "id": "47ce00f8",
   "metadata": {},
   "outputs": [
    {
     "data": {
      "text/plain": [
       "array([0, 0, 0, 0, 0, 0, 0, 0, 0, 0, 0, 0, 0, 0, 0, 0, 0, 0, 0, 0, 0, 0,\n",
       "       0, 0, 0, 0, 0, 0, 0, 0, 0, 0, 0, 0, 0, 0, 0, 0, 0, 0, 0, 0, 0, 0,\n",
       "       0, 0, 0, 0, 0, 0, 1, 1, 1, 1, 1, 1, 1, 1, 1, 1, 1, 1, 1, 1, 1, 1,\n",
       "       1, 1, 1, 1, 1, 1, 1, 1, 1, 1, 1, 1, 1, 1, 1, 1, 1, 1, 1, 1, 1, 1,\n",
       "       1, 1, 1, 1, 1, 1, 1, 1, 1, 1, 1, 1, 2, 2, 2, 2, 2, 2, 2, 2, 2, 2,\n",
       "       2, 2, 2, 2, 2, 2, 2, 2, 2, 2, 2, 2, 2, 2, 2, 2, 2, 2, 2, 2, 2, 2,\n",
       "       2, 2, 2, 2, 2, 2, 2, 2, 2, 2, 2, 2, 2, 2, 2, 2, 2, 2])"
      ]
     },
     "execution_count": 20,
     "metadata": {},
     "output_type": "execute_result"
    }
   ],
   "source": [
    "from sklearn.preprocessing import LabelEncoder\n",
    "le = LabelEncoder()\n",
    "y = le.fit_transform(y)\n",
    "y"
   ]
  },
  {
   "cell_type": "code",
   "execution_count": 21,
   "id": "8c41d7cf",
   "metadata": {},
   "outputs": [],
   "source": [
    "from sklearn.model_selection import train_test_split"
   ]
  },
  {
   "cell_type": "code",
   "execution_count": 22,
   "id": "cd1a0607",
   "metadata": {},
   "outputs": [],
   "source": [
    "X_train, X_test, y_train, y_test = train_test_split(X, y, test_size = 0.2, random_state = 0)"
   ]
  },
  {
   "cell_type": "code",
   "execution_count": 23,
   "id": "71e102b8",
   "metadata": {},
   "outputs": [
    {
     "name": "stdout",
     "output_type": "stream",
     "text": [
      "(120, 3)\n",
      "(120,)\n"
     ]
    }
   ],
   "source": [
    "print(X_train.shape)\n",
    "print(y_train.shape)"
   ]
  },
  {
   "cell_type": "code",
   "execution_count": 24,
   "id": "6a91c432",
   "metadata": {},
   "outputs": [
    {
     "name": "stdout",
     "output_type": "stream",
     "text": [
      "(30, 3)\n",
      "(30,)\n"
     ]
    }
   ],
   "source": [
    "print(X_test.shape)\n",
    "print(y_test.shape)"
   ]
  },
  {
   "cell_type": "markdown",
   "id": "ebb1770f",
   "metadata": {},
   "source": [
    "# Data Visualisation"
   ]
  },
  {
   "cell_type": "code",
   "execution_count": 25,
   "id": "c9ed946d",
   "metadata": {},
   "outputs": [
    {
     "data": {
      "text/plain": [
       "<Figure size 432x288 with 0 Axes>"
      ]
     },
     "metadata": {},
     "output_type": "display_data"
    },
    {
     "data": {
      "image/png": "[encoded data removed]",
      "text/plain": [
       "<Figure size 1255.25x1152 with 20 Axes>"
      ]
     },
     "metadata": {
      "needs_background": "light"
     },
     "output_type": "display_data"
    }
   ],
   "source": [
    "plt.figure()\n",
    "sns.pairplot(df,hue = \"species\", height=4, markers=[\"s\", \"o\", \"D\"])\n",
    "plt.show()"
   ]
  },
  {
   "cell_type": "code",
   "execution_count": 26,
   "id": "b3303cb9",
   "metadata": {},
   "outputs": [
    {
     "data": {
      "image/png": "[encoded data removed]",
      "text/plain": [
       "<Figure size 432x288 with 1 Axes>"
      ]
     },
     "metadata": {
      "needs_background": "light"
     },
     "output_type": "display_data"
    }
   ],
   "source": [
    "sns.countplot(data=df,x='species',ec='black')\n",
    "plt.xlabel(\"Name of the Species\")\n",
    "plt.ylabel(\"Count\")\n",
    "plt.grid(True)\n",
    "plt.show()"
   ]
  },
  {
   "cell_type": "code",
   "execution_count": 27,
   "id": "a47883a3",
   "metadata": {},
   "outputs": [
    {
     "data": {
      "image/png": "[encoded data removed]",
      "text/plain": [
       "<Figure size 432x288 with 1 Axes>"
      ]
     },
     "metadata": {
      "needs_background": "light"
     },
     "output_type": "display_data"
    }
   ],
   "source": [
    "plt.bar(df['species'],df['sepal_length'])\n",
    "plt.title(\"Sepal length VS Species\")\n",
    "plt.xlabel(\"Name of the Species\")\n",
    "plt.ylabel(\"Sepal Length\")\n",
    "plt.grid(True)\n",
    "plt.show()"
   ]
  },
  {
   "cell_type": "markdown",
   "id": "bb9a3bf0",
   "metadata": {},
   "source": [
    "# Attribute Values in Data Set"
   ]
  },
  {
   "cell_type": "code",
   "execution_count": 28,
   "id": "7939b3f0",
   "metadata": {},
   "outputs": [
    {
     "data": {
      "text/plain": [
       "0      5.1\n",
       "1      4.9\n",
       "2      4.7\n",
       "3      4.6\n",
       "4      5.0\n",
       "      ... \n",
       "145    6.7\n",
       "146    6.3\n",
       "147    6.5\n",
       "148    6.2\n",
       "149    5.9\n",
       "Name: sepal_length, Length: 150, dtype: float64"
      ]
     },
     "execution_count": 28,
     "metadata": {},
     "output_type": "execute_result"
    }
   ],
   "source": [
    "df['sepal_length']"
   ]
  },
  {
   "cell_type": "code",
   "execution_count": 29,
   "id": "95ea0510",
   "metadata": {},
   "outputs": [
    {
     "data": {
      "text/plain": [
       "0      3.5\n",
       "1      3.0\n",
       "2      3.2\n",
       "3      3.1\n",
       "4      3.6\n",
       "      ... \n",
       "145    3.0\n",
       "146    2.5\n",
       "147    3.0\n",
       "148    3.4\n",
       "149    3.0\n",
       "Name: sepal_width, Length: 150, dtype: float64"
      ]
     },
     "execution_count": 29,
     "metadata": {},
     "output_type": "execute_result"
    }
   ],
   "source": [
    "df['sepal_width']"
   ]
  },
  {
   "cell_type": "code",
   "execution_count": 30,
   "id": "1a1adb0b",
   "metadata": {},
   "outputs": [
    {
     "data": {
      "text/plain": [
       "0      1.4\n",
       "1      1.4\n",
       "2      1.3\n",
       "3      1.5\n",
       "4      1.4\n",
       "      ... \n",
       "145    5.2\n",
       "146    5.0\n",
       "147    5.2\n",
       "148    5.4\n",
       "149    5.1\n",
       "Name: petal_length, Length: 150, dtype: float64"
      ]
     },
     "execution_count": 30,
     "metadata": {},
     "output_type": "execute_result"
    }
   ],
   "source": [
    "df['petal_length']"
   ]
  },
  {
   "cell_type": "code",
   "execution_count": 31,
   "id": "bd83febf",
   "metadata": {},
   "outputs": [
    {
     "data": {
      "text/plain": [
       "0      0.2\n",
       "1      0.2\n",
       "2      0.2\n",
       "3      0.2\n",
       "4      0.2\n",
       "      ... \n",
       "145    2.3\n",
       "146    1.9\n",
       "147    2.0\n",
       "148    2.3\n",
       "149    1.8\n",
       "Name: petal_width, Length: 150, dtype: float64"
      ]
     },
     "execution_count": 31,
     "metadata": {},
     "output_type": "execute_result"
    }
   ],
   "source": [
    "df['petal_width']"
   ]
  },
  {
   "cell_type": "markdown",
   "id": "bf7e0a7d",
   "metadata": {},
   "source": [
    "# Import Machine Learning and Model Building Packages"
   ]
  },
  {
   "cell_type": "code",
   "execution_count": 32,
   "id": "87de6645",
   "metadata": {},
   "outputs": [],
   "source": [
    "from sklearn.neighbors import KNeighborsClassifier\n",
    "from sklearn.metrics import confusion_matrix, accuracy_score\n",
    "from sklearn.model_selection import cross_val_score\n",
    "from sklearn.metrics import accuracy_score, classification_report, mean_absolute_error, mean_squared_error, r2_score \n",
    "from sklearn.preprocessing import StandardScaler\n",
    "from sklearn.svm import SVC\n",
    "from sklearn.linear_model import LinearRegression, LogisticRegression"
   ]
  },
  {
   "cell_type": "code",
   "execution_count": 33,
   "id": "bcfe9cd7",
   "metadata": {},
   "outputs": [],
   "source": [
    "X=df.drop('species',axis=1)\n",
    "Y=df['species']"
   ]
  },
  {
   "cell_type": "code",
   "execution_count": 34,
   "id": "74233b26",
   "metadata": {},
   "outputs": [],
   "source": [
    "X_train,X_test,Y_train,Y_test=train_test_split(X,Y,test_size=0.24,random_state=20)"
   ]
  },
  {
   "cell_type": "code",
   "execution_count": 35,
   "id": "ebc3451b",
   "metadata": {},
   "outputs": [],
   "source": [
    "scaler=StandardScaler()"
   ]
  },
  {
   "cell_type": "code",
   "execution_count": 36,
   "id": "a0adb1df",
   "metadata": {},
   "outputs": [],
   "source": [
    "X_train=scaler.fit_transform(X_train)"
   ]
  },
  {
   "cell_type": "code",
   "execution_count": 37,
   "id": "8717f8ab",
   "metadata": {},
   "outputs": [
    {
     "data": {
      "text/plain": [
       "array([[ 0.16782396,  0.69731669,  0.41803027,  0.49149268],\n",
       "       [-1.16414597, -0.20346634, -1.32614799, -1.315932  ],\n",
       "       [ 0.65217667,  0.24692517,  0.41803027,  0.36239091],\n",
       "       [ 1.86305843, -0.65385786,  1.31825131,  0.87879796],\n",
       "       [-0.19544056, -0.65385786,  0.41803027,  0.10418739],\n",
       "       [ 0.28891214, -1.10424937,  1.03693224,  0.23328915],\n",
       "       [-1.16414597,  0.02172942, -1.26988417, -1.44503377],\n",
       "       [ 1.01544119,  0.02172942,  0.36176646,  0.23328915],\n",
       "       [ 0.53108849,  0.47212093,  0.5305579 ,  0.49149268],\n",
       "       [-1.40632232,  0.24692517, -1.3824118 , -1.315932  ],\n",
       "       [-0.55870509,  1.82329547, -1.15735654, -1.05772848],\n",
       "       [-1.0430578 ,  0.47212093, -1.32614799, -1.315932  ],\n",
       "       [-0.19544056, -1.32944513,  0.69934935,  1.00789973],\n",
       "       [-0.92196962,  1.59809971, -1.04482891, -1.05772848],\n",
       "       [ 0.65217667, -0.65385786,  1.03693224,  1.26610325],\n",
       "       [ 0.41000031,  0.69731669,  0.92440461,  1.39520502],\n",
       "       [-0.55870509,  0.69731669, -1.26988417, -1.05772848],\n",
       "       [ 0.53108849,  0.47212093,  1.2619875 ,  1.65340854],\n",
       "       [ 0.16782396, -2.0050324 ,  0.1367112 , -0.2831179 ],\n",
       "       [-0.31652874, -0.4286621 , -0.08834406,  0.10418739],\n",
       "       [-0.31652874, -0.20346634,  0.41803027,  0.36239091],\n",
       "       [-1.64849868, -1.77983664, -1.3824118 , -1.18683024],\n",
       "       [-0.92196962,  0.69731669, -1.26988417, -1.315932  ],\n",
       "       [-0.43761692, -1.55464088,  0.02418357, -0.15401614],\n",
       "       [ 0.41000031, -0.4286621 ,  0.30550264,  0.10418739],\n",
       "       [-0.07435239, -1.10424937,  0.1367112 , -0.02491438],\n",
       "       [-0.31652874, -1.32944513,  0.08044738, -0.15401614],\n",
       "       [ 1.01544119,  0.02172942,  0.5305579 ,  0.36239091],\n",
       "       [ 0.77326484, -0.65385786,  0.47429409,  0.36239091],\n",
       "       [-0.19544056, -0.4286621 ,  0.24923883,  0.10418739],\n",
       "       [-0.92196962,  0.47212093, -1.15735654, -0.92862672],\n",
       "       [ 0.41000031, -2.0050324 ,  0.41803027,  0.36239091],\n",
       "       [ 0.53108849, -1.77983664,  0.36176646,  0.10418739],\n",
       "       [-1.16414597,  0.02172942, -1.26988417, -1.44503377],\n",
       "       [-1.76958685, -0.20346634, -1.3824118 , -1.315932  ],\n",
       "       [-0.55870509, -0.20346634,  0.41803027,  0.36239091],\n",
       "       [-0.43761692, -1.77983664,  0.1367112 ,  0.10418739],\n",
       "       [ 0.28891214, -0.20346634,  0.47429409,  0.23328915],\n",
       "       [-0.92196962,  1.59809971, -1.26988417, -1.18683024],\n",
       "       [-0.67979327,  1.37290396, -1.26988417, -1.315932  ],\n",
       "       [ 0.65217667,  0.24692517,  0.86814079,  1.39520502],\n",
       "       [-0.43761692,  0.92251244, -1.3824118 , -1.315932  ],\n",
       "       [-1.28523415,  0.02172942, -1.21362036, -1.315932  ],\n",
       "       [-1.0430578 , -2.45542391, -0.14460787, -0.2831179 ],\n",
       "       [ 0.16782396, -0.20346634,  0.58682172,  0.7496962 ],\n",
       "       [-0.07435239, -0.87905361,  0.75561316,  0.87879796],\n",
       "       [-0.31652874, -0.65385786,  0.64308553,  1.00789973],\n",
       "       [ 0.53108849, -0.4286621 ,  1.03693224,  0.7496962 ],\n",
       "       [ 0.65217667, -0.65385786,  1.03693224,  1.13700149],\n",
       "       [ 1.4997939 , -0.20346634,  1.20572368,  1.13700149],\n",
       "       [-0.07435239, -0.87905361,  0.08044738, -0.02491438],\n",
       "       [ 0.77326484, -0.20346634,  0.98066842,  0.7496962 ],\n",
       "       [ 2.22632295, -0.20346634,  1.31825131,  1.39520502],\n",
       "       [ 1.62088207,  1.1477082 ,  1.31825131,  1.65340854],\n",
       "       [-1.76958685, -0.4286621 , -1.32614799, -1.315932  ],\n",
       "       [ 1.13652937, -0.20346634,  0.98066842,  1.13700149],\n",
       "       [-0.80088144,  0.92251244, -1.26988417, -1.315932  ],\n",
       "       [-1.0430578 ,  1.1477082 , -1.32614799, -1.315932  ],\n",
       "       [-0.07435239,  2.04849123, -1.43867562, -1.315932  ],\n",
       "       [ 1.01544119, -0.20346634,  0.81187698,  1.39520502],\n",
       "       [ 1.25761755,  0.02172942,  0.64308553,  0.36239091],\n",
       "       [ 0.04673579,  0.24692517,  0.58682172,  0.7496962 ],\n",
       "       [ 1.25761755,  0.02172942,  0.92440461,  1.13700149],\n",
       "       [ 0.53108849, -0.87905361,  0.64308553,  0.7496962 ],\n",
       "       [-0.31652874, -0.87905361,  0.24923883,  0.10418739],\n",
       "       [-1.76958685,  0.24692517, -1.3824118 , -1.315932  ],\n",
       "       [ 0.28891214, -0.20346634,  0.64308553,  0.7496962 ],\n",
       "       [-0.43761692,  2.49888274, -1.32614799, -1.315932  ],\n",
       "       [-1.0430578 , -1.77983664, -0.2571355 , -0.2831179 ],\n",
       "       [ 2.22632295,  1.59809971,  1.6558342 ,  1.26610325],\n",
       "       [-1.28523415,  0.69731669, -1.04482891, -1.315932  ],\n",
       "       [ 0.16782396, -0.4286621 ,  0.41803027,  0.36239091],\n",
       "       [ 0.28891214, -0.4286621 ,  0.5305579 ,  0.23328915],\n",
       "       [ 0.41000031, -0.65385786,  0.58682172,  0.7496962 ],\n",
       "       [-1.28523415, -0.20346634, -1.32614799, -1.18683024],\n",
       "       [-1.40632232,  0.24692517, -1.21362036, -1.315932  ],\n",
       "       [ 1.62088207,  0.24692517,  1.2619875 ,  0.7496962 ],\n",
       "       [ 1.01544119,  0.47212093,  1.09319605,  1.65340854],\n",
       "       [-0.80088144, -0.87905361,  0.08044738,  0.23328915],\n",
       "       [-0.43761692, -1.10424937,  0.36176646, -0.02491438],\n",
       "       [-0.19544056, -1.10424937, -0.14460787, -0.2831179 ],\n",
       "       [ 1.01544119,  0.47212093,  1.09319605,  1.13700149],\n",
       "       [ 1.01544119,  0.02172942,  1.03693224,  1.52430678],\n",
       "       [-1.0430578 ,  0.92251244, -1.21362036, -0.79952495],\n",
       "       [ 1.25761755,  0.24692517,  1.09319605,  1.39520502],\n",
       "       [-0.92196962,  0.92251244, -1.32614799, -1.18683024],\n",
       "       [ 1.01544119, -0.20346634,  0.69934935,  0.62059444],\n",
       "       [-1.5274105 ,  0.02172942, -1.26988417, -1.315932  ],\n",
       "       [-0.19544056,  1.59809971, -1.15735654, -1.18683024],\n",
       "       [ 0.53108849, -1.32944513,  0.69934935,  0.87879796],\n",
       "       [ 0.53108849,  0.69731669,  1.03693224,  1.52430678],\n",
       "       [ 1.74197025, -0.4286621 ,  1.43077894,  0.7496962 ],\n",
       "       [-0.55870509,  1.37290396, -1.26988417, -1.315932  ],\n",
       "       [-0.80088144,  2.27368699, -1.26988417, -1.44503377],\n",
       "       [ 0.77326484,  0.24692517,  0.75561316,  1.00789973],\n",
       "       [ 0.16782396, -0.87905361,  0.75561316,  0.49149268],\n",
       "       [ 0.04673579, -0.20346634,  0.24923883,  0.36239091],\n",
       "       [ 2.4684993 ,  1.59809971,  1.48704276,  1.00789973],\n",
       "       [-1.0430578 , -0.20346634, -1.21362036, -1.315932  ],\n",
       "       [ 1.25761755,  0.02172942,  0.75561316,  1.39520502],\n",
       "       [-1.5274105 ,  0.69731669, -1.32614799, -1.18683024],\n",
       "       [-1.0430578 ,  0.69731669, -1.26988417, -1.315932  ],\n",
       "       [-0.07435239, -0.87905361,  0.75561316,  0.87879796],\n",
       "       [ 2.10523478, -0.20346634,  1.59957039,  1.13700149],\n",
       "       [-0.55870509,  1.82329547, -1.3824118 , -1.05772848],\n",
       "       [-1.0430578 ,  0.69731669, -1.21362036, -1.05772848],\n",
       "       [-1.0430578 ,  0.92251244, -1.3824118 , -1.18683024],\n",
       "       [ 2.22632295, -1.10424937,  1.76836183,  1.39520502],\n",
       "       [ 0.28891214, -0.65385786,  0.1367112 ,  0.10418739],\n",
       "       [-1.5274105 ,  1.1477082 , -1.55120325, -1.315932  ],\n",
       "       [ 0.89435302, -0.20346634,  0.36176646,  0.23328915],\n",
       "       [ 0.65217667,  0.02172942,  0.98066842,  0.7496962 ],\n",
       "       [-0.19544056,  2.94927426, -1.26988417, -1.05772848],\n",
       "       [-0.19544056, -0.65385786,  0.19297501,  0.10418739]])"
      ]
     },
     "execution_count": 37,
     "metadata": {},
     "output_type": "execute_result"
    }
   ],
   "source": [
    "X_train"
   ]
  },
  {
   "cell_type": "code",
   "execution_count": 38,
   "id": "dcb96b74",
   "metadata": {},
   "outputs": [],
   "source": [
    "X_test=scaler.fit_transform(X_test)"
   ]
  },
  {
   "cell_type": "code",
   "execution_count": 39,
   "id": "f2460bf3",
   "metadata": {},
   "outputs": [
    {
     "data": {
      "text/plain": [
       "array([[-1.44478718,  0.70734698, -1.39251151, -1.31338208],\n",
       "       [ 0.38234415, -0.37624839,  0.5514411 ,  0.09381301],\n",
       "       [ 0.74777041, -0.10534955,  0.31581048,  0.23453251],\n",
       "       [ 1.72224045,  0.16554929,  1.1994253 ,  0.65669104],\n",
       "       [ 0.01691788, -0.64714724,  0.19799517, -0.18762601],\n",
       "       [-0.34850838, -1.18894492,  0.13908752,  0.23453251],\n",
       "       [ 1.23500543,  0.70734698,  1.25833296,  1.6417276 ],\n",
       "       [-0.8357434 ,  2.0618412 , -1.33360385, -1.03194307],\n",
       "       [ 1.11319668, -1.18894492,  1.1994253 ,  0.93813006],\n",
       "       [-1.20116967,  0.16554929, -1.39251151, -1.45410159],\n",
       "       [ 0.86957917,  0.16554929,  0.84597938,  1.21956908],\n",
       "       [ 1.23500543, -0.37624839,  0.61034876,  0.37525202],\n",
       "       [ 0.26053539, -2.00164146,  0.72816407,  0.51597153],\n",
       "       [-0.95755216,  0.70734698, -1.51032681, -1.31338208],\n",
       "       [-0.71393465,  1.24914467, -1.39251151, -1.31338208],\n",
       "       [ 2.33128423, -0.37624839,  1.7295942 ,  1.21956908],\n",
       "       [-1.81021344,  0.16554929, -1.56923447, -1.45410159],\n",
       "       [ 0.99138792, -0.10534955,  0.49253345,  0.23453251],\n",
       "       [ 0.01691788, -0.37624839,  0.78707172,  1.78244711],\n",
       "       [-1.07936091, -1.45984377, -0.27326607, -0.18762601],\n",
       "       [ 1.47862294,  0.70734698,  0.5514411 ,  0.37525202],\n",
       "       [ 0.13872664,  0.16554929,  0.78707172,  0.93813006],\n",
       "       [ 0.74777041, -0.64714724,  0.90488703,  1.07884957],\n",
       "       [-0.47031714,  1.24914467, -1.21578854, -1.31338208],\n",
       "       [ 0.62596166, -1.18894492,  0.66925641,  0.51597153],\n",
       "       [-0.34850838, -1.45984377, -0.03763545, -0.18762601],\n",
       "       [-0.8357434 , -1.18894492, -0.44998903, -0.0469065 ],\n",
       "       [-1.07936091,  0.43644814, -1.33360385, -1.45410159],\n",
       "       [ 0.86957917,  0.16554929,  1.1994253 ,  1.5010081 ],\n",
       "       [ 0.62596166, -0.37624839,  0.78707172,  0.51597153],\n",
       "       [-0.10489087,  0.16554929,  0.25690283,  0.09381301],\n",
       "       [-0.22669963,  0.16554929,  0.19799517,  0.23453251],\n",
       "       [-0.8357434 ,  1.52004351, -1.39251151, -1.31338208],\n",
       "       [-0.8357434 ,  2.33274004, -1.2746962 , -1.31338208],\n",
       "       [-1.20116967,  1.24914467, -1.2746962 , -1.31338208],\n",
       "       [-1.07936091, -1.18894492,  0.43362579,  0.79741055]])"
      ]
     },
     "execution_count": 39,
     "metadata": {},
     "output_type": "execute_result"
    }
   ],
   "source": [
    "X_test"
   ]
  },
  {
   "cell_type": "code",
   "execution_count": 40,
   "id": "741e4a36",
   "metadata": {},
   "outputs": [
    {
     "name": "stdout",
     "output_type": "stream",
     "text": [
      "(114, 4)\n",
      "(36, 4)\n",
      "(36,)\n",
      "(114,)\n"
     ]
    }
   ],
   "source": [
    "print(X_train.shape)\n",
    "print(X_test.shape)\n",
    "print(Y_test.shape)\n",
    "print(Y_train.shape)"
   ]
  },
  {
   "cell_type": "markdown",
   "id": "0300698b",
   "metadata": {},
   "source": [
    "# Building A Model"
   ]
  },
  {
   "cell_type": "code",
   "execution_count": 41,
   "id": "bfe52b4b",
   "metadata": {},
   "outputs": [],
   "source": [
    "model=LogisticRegression()"
   ]
  },
  {
   "cell_type": "code",
   "execution_count": 42,
   "id": "744680be",
   "metadata": {},
   "outputs": [
    {
     "data": {
      "text/plain": [
       "LogisticRegression()"
      ]
     },
     "execution_count": 42,
     "metadata": {},
     "output_type": "execute_result"
    }
   ],
   "source": [
    "model.fit(X_train,Y_train)"
   ]
  },
  {
   "cell_type": "code",
   "execution_count": 43,
   "id": "e0cdd2ff",
   "metadata": {},
   "outputs": [],
   "source": [
    "y_pred=model.predict(X_test)"
   ]
  },
  {
   "cell_type": "code",
   "execution_count": 44,
   "id": "57806c8f",
   "metadata": {},
   "outputs": [
    {
     "name": "stdout",
     "output_type": "stream",
     "text": [
      "(36,)\n"
     ]
    }
   ],
   "source": [
    "print(y_pred.shape)"
   ]
  },
  {
   "cell_type": "code",
   "execution_count": 45,
   "id": "d3859a1c",
   "metadata": {},
   "outputs": [
    {
     "data": {
      "text/plain": [
       "0.9736842105263158"
      ]
     },
     "execution_count": 45,
     "metadata": {},
     "output_type": "execute_result"
    }
   ],
   "source": [
    "model.score(X_train,Y_train)"
   ]
  },
  {
   "cell_type": "code",
   "execution_count": 46,
   "id": "d1d69641",
   "metadata": {},
   "outputs": [
    {
     "data": {
      "text/plain": [
       "0.9444444444444444"
      ]
     },
     "execution_count": 46,
     "metadata": {},
     "output_type": "execute_result"
    }
   ],
   "source": [
    "model.score(X_test,Y_test)"
   ]
  },
  {
   "cell_type": "markdown",
   "id": "a1adc5e9",
   "metadata": {},
   "source": [
    "# Conclusion"
   ]
  },
  {
   "cell_type": "markdown",
   "id": "a8067e15",
   "metadata": {},
   "source": [
    "The testing accuracy is 0.97368 which is higher than training accuracy.This suggests that model will make accurate prediction on new sample.\n",
    "\n",
    "\n",
    "The training accuarcy is 0.94444 which is slightly less than testing accuracy.This indicates that the model fit the training data quite well.\n",
    "\n",
    "\n",
    "Overall model exhibits high and good accuracy on both the training and testing data, which is a positive outcome."
   ]
  }
 ],
 "metadata": {
  "kernelspec": {
   "display_name": "Python 3 (ipykernel)",
   "language": "python",
   "name": "python3"
  },
  "language_info": {
   "codemirror_mode": {
    "name": "ipython",
    "version": 3
   },
   "file_extension": ".py",
   "mimetype": "text/x-python",
   "name": "python",
   "nbconvert_exporter": "python",
   "pygments_lexer": "ipython3",
   "version": "3.9.7"
  }
 },
 "nbformat": 4,
 "nbformat_minor": 5
}
